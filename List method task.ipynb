{
 "cells": [
  {
   "cell_type": "markdown",
   "id": "4f2dfc88-2bf2-4d79-96a5-04ca1d06765b",
   "metadata": {},
   "source": [
    "# Python Array Append Method, add new parameter in array list\n"
   ]
  },
  {
   "cell_type": "code",
   "execution_count": 2,
   "id": "5bab245c-db70-460d-aef3-f4de5f529083",
   "metadata": {},
   "outputs": [
    {
     "name": "stdout",
     "output_type": "stream",
     "text": [
      "['paracetamol', 'ondem', 'diclofenac', 'dexametasone', 'calcium']\n"
     ]
    }
   ],
   "source": [
    "medicine =[\"paracetamol\", \"ondem\", \"diclofenac\", \"dexametasone\"]\n",
    "medicine.append(\"calcium\")\n",
    "print(medicine)"
   ]
  },
  {
   "cell_type": "markdown",
   "id": "4e38a085-fa38-4514-b9e9-da38f91e8b8e",
   "metadata": {},
   "source": [
    "# Python List Clear Method, to remove the parameter of array list\n"
   ]
  },
  {
   "cell_type": "code",
   "execution_count": 5,
   "id": "639a445b-0d38-4750-8cb2-92c68a2b2ff6",
   "metadata": {},
   "outputs": [
    {
     "name": "stdout",
     "output_type": "stream",
     "text": [
      "[]\n"
     ]
    }
   ],
   "source": [
    "l1 = [1,2,3,4,5,6,7]\n",
    "l1.clear()\n",
    "print(l1)"
   ]
  },
  {
   "cell_type": "markdown",
   "id": "c3b493bf-fff1-4009-9190-001a35aaf63c",
   "metadata": {},
   "source": [
    "# Python List Count Method, it will show how many times similiar value or parameter is their\n"
   ]
  },
  {
   "cell_type": "code",
   "execution_count": 18,
   "id": "00ec1dd7-c089-4c15-8dbd-6022fa848465",
   "metadata": {},
   "outputs": [
    {
     "name": "stdout",
     "output_type": "stream",
     "text": [
      "s=2\n"
     ]
    }
   ],
   "source": [
    "alpha = [\"s\", \"p\", \"r\", \"s\",\"d\",\"e\",]\n",
    "value=alpha.count(\"s\")\n",
    "print(f's={value}')"
   ]
  },
  {
   "cell_type": "markdown",
   "id": "fe8e4ad1-3d3e-41e7-8d49-28b14de999da",
   "metadata": {},
   "source": [
    "# Python List Extend Method, it will add the 2nd array list value at the end of 1st array list value\n"
   ]
  },
  {
   "cell_type": "code",
   "execution_count": 23,
   "id": "4f96b697-2534-436c-8616-e77097cded0e",
   "metadata": {},
   "outputs": [
    {
     "name": "stdout",
     "output_type": "stream",
     "text": [
      "['hp', 'asus', 'dell', 'pavilion', 'vivobook', 'rizer7']\n"
     ]
    }
   ],
   "source": [
    "laptop = [\"hp\", \"asus\", \"dell\"]\n",
    "brand=[\"pavilion\",\"vivobook\", \"rizer7\"]\n",
    "laptop.extend(brand)\n",
    "print(laptop)"
   ]
  },
  {
   "cell_type": "markdown",
   "id": "273f2372-ce44-46b8-ac71-26deb663fdb1",
   "metadata": {},
   "source": [
    "# Python List Index Method, it will return the index value of parameter\n"
   ]
  },
  {
   "cell_type": "code",
   "execution_count": 30,
   "id": "26f6c7ca-d27f-4b12-96cc-15611865fd2e",
   "metadata": {},
   "outputs": [
    {
     "name": "stdout",
     "output_type": "stream",
     "text": [
      "Biryani=2\n"
     ]
    }
   ],
   "source": [
    "menu=[\"maggi\",\"momos\",\"Biryani\"]\n",
    "food =menu.index(\"Biryani\")\n",
    "print(f'Biryani={food}')"
   ]
  },
  {
   "cell_type": "code",
   "execution_count": 32,
   "id": "36b80fb5-915c-43df-9009-22c4556cb5a1",
   "metadata": {},
   "outputs": [
    {
     "name": "stdout",
     "output_type": "stream",
     "text": [
      "65=5\n"
     ]
    }
   ],
   "source": [
    "list = [10,20,30,45,55,65,75]\n",
    "num = list.index(65)\n",
    "print(f'65={num}')\n"
   ]
  },
  {
   "cell_type": "markdown",
   "id": "f0501f79-e0d1-484f-983c-a9fdcc54cb92",
   "metadata": {},
   "source": [
    "# Python List Insert Method, to add new parameter at specific position by using index value\n"
   ]
  },
  {
   "cell_type": "code",
   "execution_count": 57,
   "id": "04b10066-af2e-4035-8845-0bb211b31bc5",
   "metadata": {},
   "outputs": [
    {
     "name": "stdout",
     "output_type": "stream",
     "text": [
      "twowheeler=['Bullet', 'Pulsar', 'Ninja', 'CBR', 'Ducati']\n"
     ]
    }
   ],
   "source": [
    "twowheeler = [\"Bullet\",\"Pulsar\",\"Ninja\",\"Ducati\"]\n",
    "twowheeler.insert(3,\"CBR\")\n",
    "print(f'twowheeler={twowheeler}')"
   ]
  },
  {
   "cell_type": "code",
   "execution_count": 59,
   "id": "7bf4844d-21d6-4f14-a38e-1ad36e3ce144",
   "metadata": {},
   "outputs": [
    {
     "name": "stdout",
     "output_type": "stream",
     "text": [
      "list=[1, 2, 3, 8, 4, 5, 6, 7]\n"
     ]
    }
   ],
   "source": [
    "list = [1,2,3,4,5,6,7]\n",
    "list.insert(3,8)\n",
    "print(f'list={list}')"
   ]
  },
  {
   "cell_type": "markdown",
   "id": "6127536a-cfb0-4fde-9538-3ecacc18e575",
   "metadata": {},
   "source": [
    "# Python List Pop Method, it will remove the parameter from index value refrence\n"
   ]
  },
  {
   "cell_type": "code",
   "execution_count": 61,
   "id": "5a0ff903-52a2-4412-a3c0-08b0b02a71e7",
   "metadata": {},
   "outputs": [
    {
     "name": "stdout",
     "output_type": "stream",
     "text": [
      "company=['Hyundai', 'BMW', 'Audi', 'Nissan']\n"
     ]
    }
   ],
   "source": [
    "company = [\"Hyundai\", \"BMW\", \"Audi\",\"Suzuki\",\"Nissan\"]\n",
    "company.pop(3)\n",
    "print(f'company={company}')"
   ]
  },
  {
   "cell_type": "code",
   "execution_count": 42,
   "id": "390324e3-7e9a-46f9-8b19-0d4972c71d1a",
   "metadata": {},
   "outputs": [
    {
     "name": "stdout",
     "output_type": "stream",
     "text": [
      "list=[1, 2, 3, 4, 5, 7]\n"
     ]
    }
   ],
   "source": [
    "list = [1,2,3,4,5,6,7]\n",
    "list.pop(5)\n",
    "print(f'list={list}')"
   ]
  },
  {
   "cell_type": "markdown",
   "id": "783d7449-5567-4f5e-ac48-275ff9f2ccd4",
   "metadata": {},
   "source": [
    "# Python Remove Method, it will remove the parameter directly\n"
   ]
  },
  {
   "cell_type": "code",
   "execution_count": 45,
   "id": "001c44a0-c2ad-46aa-ae1a-f81131195c3f",
   "metadata": {},
   "outputs": [
    {
     "name": "stdout",
     "output_type": "stream",
     "text": [
      "name=['Manoj', 'John', 'Pankaj']\n"
     ]
    }
   ],
   "source": [
    "name= [\"Manoj\",\"Kartik\",\"John\",\"Pankaj\"]\n",
    "name.remove(\"Kartik\")\n",
    "print(f'name={name}')"
   ]
  },
  {
   "cell_type": "markdown",
   "id": "ca0b1d55-97b5-4123-aa0a-bed9c3b1798b",
   "metadata": {},
   "source": [
    "# Python List Reverse Method, the list will show in reverse sort\n"
   ]
  },
  {
   "cell_type": "code",
   "execution_count": 48,
   "id": "db74f3de-4e08-4250-b1d6-0b4e9115f42b",
   "metadata": {},
   "outputs": [
    {
     "name": "stdout",
     "output_type": "stream",
     "text": [
      "list=[7, 6, 5, 4, 3, 2, 1]\n"
     ]
    }
   ],
   "source": [
    "list = [1,2,3,4,5,6,7]\n",
    "list.reverse()\n",
    "print(f'list={list}')"
   ]
  },
  {
   "cell_type": "code",
   "execution_count": 50,
   "id": "09a480e6-5c83-4347-a0d8-5f83dab2e821",
   "metadata": {},
   "outputs": [
    {
     "name": "stdout",
     "output_type": "stream",
     "text": [
      "value=['val5', 'val4', 'val3', 'val2', 'val1']\n"
     ]
    }
   ],
   "source": [
    "value = [\"val1\",\"val2\",\"val3\",\"val4\",\"val5\"]\n",
    "value.reverse()\n",
    "print(f'value={value}')"
   ]
  },
  {
   "cell_type": "markdown",
   "id": "3ced4dbc-12ed-4d88-bd45-db99820d5cc9",
   "metadata": {},
   "source": [
    "# Python Sorting Method, True will sort in Descending Order, False will Sort in Ascending Order, by default the sort is done ascending order\n"
   ]
  },
  {
   "cell_type": "code",
   "execution_count": 53,
   "id": "0ef6e58c-dfd2-4de8-a09f-755ebed40696",
   "metadata": {},
   "outputs": [
    {
     "name": "stdout",
     "output_type": "stream",
     "text": [
      "list=[7, 6, 5, 4, 3, 2, 1]\n"
     ]
    }
   ],
   "source": [
    "list = [1,2,3,4,5,6,7]\n",
    "list.sort(reverse=True)\n",
    "print(f'list={list}')"
   ]
  },
  {
   "cell_type": "code",
   "execution_count": 55,
   "id": "05a94413-9b35-4c67-bb82-f080a758d706",
   "metadata": {},
   "outputs": [
    {
     "name": "stdout",
     "output_type": "stream",
     "text": [
      "list=[1, 2, 3, 4, 5, 6, 7]\n"
     ]
    }
   ],
   "source": [
    "list = [1,2,3,4,5,6,7]\n",
    "list.sort(reverse=False)\n",
    "print(f'list={list}')"
   ]
  },
  {
   "cell_type": "code",
   "execution_count": null,
   "id": "f19e1d19-c30d-4b00-a454-267ecdcecf37",
   "metadata": {},
   "outputs": [],
   "source": []
  }
 ],
 "metadata": {
  "kernelspec": {
   "display_name": "Python 3 (ipykernel)",
   "language": "python",
   "name": "python3"
  },
  "language_info": {
   "codemirror_mode": {
    "name": "ipython",
    "version": 3
   },
   "file_extension": ".py",
   "mimetype": "text/x-python",
   "name": "python",
   "nbconvert_exporter": "python",
   "pygments_lexer": "ipython3",
   "version": "3.11.7"
  }
 },
 "nbformat": 4,
 "nbformat_minor": 5
}
